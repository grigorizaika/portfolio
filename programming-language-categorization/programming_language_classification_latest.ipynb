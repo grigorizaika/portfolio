{
 "cells": [
  {
   "cell_type": "code",
   "execution_count": 1,
   "metadata": {},
   "outputs": [
    {
     "data": {
      "text/html": [
       "<div>\n",
       "<style scoped>\n",
       "    .dataframe tbody tr th:only-of-type {\n",
       "        vertical-align: middle;\n",
       "    }\n",
       "\n",
       "    .dataframe tbody tr th {\n",
       "        vertical-align: top;\n",
       "    }\n",
       "\n",
       "    .dataframe thead th {\n",
       "        text-align: right;\n",
       "    }\n",
       "</style>\n",
       "<table border=\"1\" class=\"dataframe\">\n",
       "  <thead>\n",
       "    <tr style=\"text-align: right;\">\n",
       "      <th></th>\n",
       "      <th>language</th>\n",
       "      <th>proj_id</th>\n",
       "      <th>file_id</th>\n",
       "      <th>file_body</th>\n",
       "    </tr>\n",
       "  </thead>\n",
       "  <tbody>\n",
       "    <tr>\n",
       "      <th>14990</th>\n",
       "      <td>Haskell</td>\n",
       "      <td>19276</td>\n",
       "      <td>114991</td>\n",
       "      <td>-- (c) 2006-2007 Melissa O'Neill.  Code may be...</td>\n",
       "    </tr>\n",
       "    <tr>\n",
       "      <th>14332</th>\n",
       "      <td>Haskell</td>\n",
       "      <td>18955</td>\n",
       "      <td>114333</td>\n",
       "      <td>import Data.List\\nimport Control.Applicative\\n...</td>\n",
       "    </tr>\n",
       "    <tr>\n",
       "      <th>887</th>\n",
       "      <td>JavaScript</td>\n",
       "      <td>10378</td>\n",
       "      <td>100888</td>\n",
       "      <td>function sm35(n){\\n\\treturn tri(n,3) + tri(n,5...</td>\n",
       "    </tr>\n",
       "    <tr>\n",
       "      <th>6299</th>\n",
       "      <td>Rust</td>\n",
       "      <td>13585</td>\n",
       "      <td>106300</td>\n",
       "      <td>fn mod_inv(a: isize, module: isize) -&gt; isize {...</td>\n",
       "    </tr>\n",
       "    <tr>\n",
       "      <th>14245</th>\n",
       "      <td>Haskell</td>\n",
       "      <td>18922</td>\n",
       "      <td>114246</td>\n",
       "      <td>factorial = product . enumFromTo 1\\n</td>\n",
       "    </tr>\n",
       "    <tr>\n",
       "      <th>4638</th>\n",
       "      <td>C++</td>\n",
       "      <td>12503</td>\n",
       "      <td>104639</td>\n",
       "      <td>#include &lt;string&gt;\\n#include &lt;algorithm&gt;\\n\\nboo...</td>\n",
       "    </tr>\n",
       "    <tr>\n",
       "      <th>12782</th>\n",
       "      <td>PHP</td>\n",
       "      <td>18026</td>\n",
       "      <td>112783</td>\n",
       "      <td>$compose = function ($f, $g) {\\n    return fun...</td>\n",
       "    </tr>\n",
       "    <tr>\n",
       "      <th>4353</th>\n",
       "      <td>C++</td>\n",
       "      <td>12320</td>\n",
       "      <td>104354</td>\n",
       "      <td>#include &lt;iostream&gt;\\n#include \"matrix.h\"\\n\\n#i...</td>\n",
       "    </tr>\n",
       "    <tr>\n",
       "      <th>5602</th>\n",
       "      <td>Ruby</td>\n",
       "      <td>13085</td>\n",
       "      <td>105603</td>\n",
       "      <td>require 'rational' #Only needed in Ruby &lt; 1.9\\...</td>\n",
       "    </tr>\n",
       "    <tr>\n",
       "      <th>9406</th>\n",
       "      <td>Go</td>\n",
       "      <td>15574</td>\n",
       "      <td>109407</td>\n",
       "      <td>// Implmentation following pseudocode from \"An...</td>\n",
       "    </tr>\n",
       "    <tr>\n",
       "      <th>1933</th>\n",
       "      <td>Python</td>\n",
       "      <td>10956</td>\n",
       "      <td>101934</td>\n",
       "      <td>&gt;&gt;&gt; from string import Template\\n&gt;&gt;&gt; original ...</td>\n",
       "    </tr>\n",
       "    <tr>\n",
       "      <th>6809</th>\n",
       "      <td>C</td>\n",
       "      <td>13887</td>\n",
       "      <td>106810</td>\n",
       "      <td>#include &lt;stdio.h&gt;\\n\\n/* Type marker stick: us...</td>\n",
       "    </tr>\n",
       "    <tr>\n",
       "      <th>11140</th>\n",
       "      <td>Kotlin</td>\n",
       "      <td>16857</td>\n",
       "      <td>111141</td>\n",
       "      <td>// version 1.0.6\\n\\n@Suppress(\"UNUSED_VARIABLE...</td>\n",
       "    </tr>\n",
       "    <tr>\n",
       "      <th>3079</th>\n",
       "      <td>Java</td>\n",
       "      <td>11536</td>\n",
       "      <td>103080</td>\n",
       "      <td>class Metronome{\\n\\tdouble bpm;\\n\\tint measure...</td>\n",
       "    </tr>\n",
       "    <tr>\n",
       "      <th>6174</th>\n",
       "      <td>Rust</td>\n",
       "      <td>13490</td>\n",
       "      <td>106175</td>\n",
       "      <td>#![feature(test)]\\n\\nextern crate test;\\n\\nuse...</td>\n",
       "    </tr>\n",
       "    <tr>\n",
       "      <th>8924</th>\n",
       "      <td>Go</td>\n",
       "      <td>15253</td>\n",
       "      <td>108925</td>\n",
       "      <td>package main\\n\\nimport (\\n    \"log\"\\n\\n    gc ...</td>\n",
       "    </tr>\n",
       "    <tr>\n",
       "      <th>14994</th>\n",
       "      <td>Haskell</td>\n",
       "      <td>19276</td>\n",
       "      <td>114995</td>\n",
       "      <td>unfoldr (\\(a:b:t) -&gt; Just . (head &amp;&amp;&amp; (:t) . (...</td>\n",
       "    </tr>\n",
       "    <tr>\n",
       "      <th>7711</th>\n",
       "      <td>Scala</td>\n",
       "      <td>14472</td>\n",
       "      <td>107712</td>\n",
       "      <td>scala&gt; implicit def IntToFac(i : Int) = new {\\...</td>\n",
       "    </tr>\n",
       "    <tr>\n",
       "      <th>10798</th>\n",
       "      <td>Kotlin</td>\n",
       "      <td>16529</td>\n",
       "      <td>110799</td>\n",
       "      <td>import java.lang.Long.parseLong\\nimport java.l...</td>\n",
       "    </tr>\n",
       "    <tr>\n",
       "      <th>42</th>\n",
       "      <td>JavaScript</td>\n",
       "      <td>10018</td>\n",
       "      <td>100043</td>\n",
       "      <td>(() =&gt; {\\n\\n    // SYSTEM DIRECTORY FUNCTIONS\\...</td>\n",
       "    </tr>\n",
       "  </tbody>\n",
       "</table>\n",
       "</div>"
      ],
      "text/plain": [
       "         language  proj_id  file_id  \\\n",
       "14990     Haskell    19276   114991   \n",
       "14332     Haskell    18955   114333   \n",
       "887    JavaScript    10378   100888   \n",
       "6299         Rust    13585   106300   \n",
       "14245     Haskell    18922   114246   \n",
       "4638          C++    12503   104639   \n",
       "12782         PHP    18026   112783   \n",
       "4353          C++    12320   104354   \n",
       "5602         Ruby    13085   105603   \n",
       "9406           Go    15574   109407   \n",
       "1933       Python    10956   101934   \n",
       "6809            C    13887   106810   \n",
       "11140      Kotlin    16857   111141   \n",
       "3079         Java    11536   103080   \n",
       "6174         Rust    13490   106175   \n",
       "8924           Go    15253   108925   \n",
       "14994     Haskell    19276   114995   \n",
       "7711        Scala    14472   107712   \n",
       "10798      Kotlin    16529   110799   \n",
       "42     JavaScript    10018   100043   \n",
       "\n",
       "                                               file_body  \n",
       "14990  -- (c) 2006-2007 Melissa O'Neill.  Code may be...  \n",
       "14332  import Data.List\\nimport Control.Applicative\\n...  \n",
       "887    function sm35(n){\\n\\treturn tri(n,3) + tri(n,5...  \n",
       "6299   fn mod_inv(a: isize, module: isize) -> isize {...  \n",
       "14245               factorial = product . enumFromTo 1\\n  \n",
       "4638   #include <string>\\n#include <algorithm>\\n\\nboo...  \n",
       "12782  $compose = function ($f, $g) {\\n    return fun...  \n",
       "4353   #include <iostream>\\n#include \"matrix.h\"\\n\\n#i...  \n",
       "5602   require 'rational' #Only needed in Ruby < 1.9\\...  \n",
       "9406   // Implmentation following pseudocode from \"An...  \n",
       "1933   >>> from string import Template\\n>>> original ...  \n",
       "6809   #include <stdio.h>\\n\\n/* Type marker stick: us...  \n",
       "11140  // version 1.0.6\\n\\n@Suppress(\"UNUSED_VARIABLE...  \n",
       "3079   class Metronome{\\n\\tdouble bpm;\\n\\tint measure...  \n",
       "6174   #![feature(test)]\\n\\nextern crate test;\\n\\nuse...  \n",
       "8924   package main\\n\\nimport (\\n    \"log\"\\n\\n    gc ...  \n",
       "14994  unfoldr (\\(a:b:t) -> Just . (head &&& (:t) . (...  \n",
       "7711   scala> implicit def IntToFac(i : Int) = new {\\...  \n",
       "10798  import java.lang.Long.parseLong\\nimport java.l...  \n",
       "42     (() => {\\n\\n    // SYSTEM DIRECTORY FUNCTIONS\\...  "
      ]
     },
     "execution_count": 1,
     "metadata": {},
     "output_type": "execute_result"
    }
   ],
   "source": [
    "import pandas as pd\n",
    "import numpy as np\n",
    "import matplotlib.pyplot as plt\n",
    "import seaborn as sns\n",
    "import pprint\n",
    "%matplotlib inline\n",
    "\n",
    "lang_df = pd.read_csv('data.csv', encoding = 'utf8')\n",
    "lang_df.sample(n=20)"
   ]
  },
  {
   "cell_type": "code",
   "execution_count": 2,
   "metadata": {},
   "outputs": [
    {
     "name": "stdout",
     "output_type": "stream",
     "text": [
      "16272 out of 16272 files have unique IDs\n",
      "language     0\n",
      "proj_id      0\n",
      "file_id      0\n",
      "file_body    4\n",
      "dtype: int64\n"
     ]
    }
   ],
   "source": [
    "print(\"%s out of %s files have unique IDs\" % (lang_df['file_id'].unique().shape[0], lang_df.shape[0]))\n",
    "print(lang_df.isnull().sum() if lang_df.isnull().values.any() else 'No null values')"
   ]
  },
  {
   "cell_type": "code",
   "execution_count": 3,
   "metadata": {},
   "outputs": [
    {
     "data": {
      "text/html": [
       "<div>\n",
       "<style scoped>\n",
       "    .dataframe tbody tr th:only-of-type {\n",
       "        vertical-align: middle;\n",
       "    }\n",
       "\n",
       "    .dataframe tbody tr th {\n",
       "        vertical-align: top;\n",
       "    }\n",
       "\n",
       "    .dataframe thead th {\n",
       "        text-align: right;\n",
       "    }\n",
       "</style>\n",
       "<table border=\"1\" class=\"dataframe\">\n",
       "  <thead>\n",
       "    <tr style=\"text-align: right;\">\n",
       "      <th></th>\n",
       "      <th>language</th>\n",
       "      <th>proj_id</th>\n",
       "      <th>file_id</th>\n",
       "      <th>file_body</th>\n",
       "    </tr>\n",
       "  </thead>\n",
       "  <tbody>\n",
       "    <tr>\n",
       "      <th>1163</th>\n",
       "      <td>Swift</td>\n",
       "      <td>10518</td>\n",
       "      <td>101164</td>\n",
       "      <td>NaN</td>\n",
       "    </tr>\n",
       "    <tr>\n",
       "      <th>9951</th>\n",
       "      <td>Mathematica</td>\n",
       "      <td>15938</td>\n",
       "      <td>109952</td>\n",
       "      <td>NaN</td>\n",
       "    </tr>\n",
       "    <tr>\n",
       "      <th>12227</th>\n",
       "      <td>Julia</td>\n",
       "      <td>17632</td>\n",
       "      <td>112228</td>\n",
       "      <td>NaN</td>\n",
       "    </tr>\n",
       "    <tr>\n",
       "      <th>15290</th>\n",
       "      <td>Perl</td>\n",
       "      <td>19446</td>\n",
       "      <td>115291</td>\n",
       "      <td>NaN</td>\n",
       "    </tr>\n",
       "  </tbody>\n",
       "</table>\n",
       "</div>"
      ],
      "text/plain": [
       "          language  proj_id  file_id file_body\n",
       "1163         Swift    10518   101164       NaN\n",
       "9951   Mathematica    15938   109952       NaN\n",
       "12227        Julia    17632   112228       NaN\n",
       "15290         Perl    19446   115291       NaN"
      ]
     },
     "execution_count": 3,
     "metadata": {},
     "output_type": "execute_result"
    }
   ],
   "source": [
    "lang_df[lang_df['file_body'].isnull()]"
   ]
  },
  {
   "cell_type": "code",
   "execution_count": 4,
   "metadata": {},
   "outputs": [
    {
     "name": "stdout",
     "output_type": "stream",
     "text": [
      "No null values\n"
     ]
    }
   ],
   "source": [
    "lang_df.dropna(subset=['file_body'], inplace=True)\n",
    "print(lang_df.isnull().sum() if lang_df.isnull().values.any() else 'No null values')"
   ]
  },
  {
   "cell_type": "code",
   "execution_count": 5,
   "metadata": {},
   "outputs": [
    {
     "name": "stdout",
     "output_type": "stream",
     "text": [
      "       language  records\n",
      "0             C     1078\n",
      "1           C++      880\n",
      "2       Fortran      745\n",
      "3            Go      998\n",
      "4       Haskell     1333\n",
      "5          Java      987\n",
      "6    JavaScript     1104\n",
      "7         Julia      637\n",
      "8        Kotlin      643\n",
      "9        MATLAB      544\n",
      "10  Mathematica      926\n",
      "11          PHP      477\n",
      "12         Perl     1135\n",
      "13       Python     1452\n",
      "14            R      603\n",
      "15         Ruby     1104\n",
      "16         Rust      417\n",
      "17        Scala      802\n",
      "18        Swift      403\n"
     ]
    },
    {
     "data": {
      "image/png": "[encoded data removed]",
      "text/plain": [
       "<matplotlib.figure.Figure at 0x7f5fc6ec1390>"
      ]
     },
     "metadata": {},
     "output_type": "display_data"
    }
   ],
   "source": [
    "record_counts = lang_df.groupby(['language']).file_id.count().to_frame().rename(columns={'file_id':'records'})\n",
    "record_counts.reset_index(level=0, inplace=True)\n",
    "print(record_counts)\n",
    "\n",
    "plt.bar(range(len(record_counts['language'])), record_counts['records'], align='center')\n",
    "plt.xticks(range(len(record_counts['language'])), record_counts['language'],rotation='vertical')\n",
    "plt.xlabel('Language')\n",
    "plt.ylabel('Number of records')\n",
    "plt.show()"
   ]
  },
  {
   "cell_type": "code",
   "execution_count": 6,
   "metadata": {},
   "outputs": [
    {
     "name": "stdout",
     "output_type": "stream",
     "text": [
      "Biggest class imbalance: 1452 : 403\n"
     ]
    }
   ],
   "source": [
    "print(\"Biggest class imbalance: %s : %s\" % (record_counts['records'].max(), record_counts['records'].min()))"
   ]
  },
  {
   "cell_type": "markdown",
   "metadata": {},
   "source": [
    "Check file length relevance:"
   ]
  },
  {
   "cell_type": "code",
   "execution_count": 7,
   "metadata": {},
   "outputs": [],
   "source": [
    "lang_df['file_length'] = lang_df['file_body'].apply(len)"
   ]
  },
  {
   "cell_type": "code",
   "execution_count": 8,
   "metadata": {},
   "outputs": [
    {
     "data": {
      "text/html": [
       "<div>\n",
       "<style scoped>\n",
       "    .dataframe tbody tr th:only-of-type {\n",
       "        vertical-align: middle;\n",
       "    }\n",
       "\n",
       "    .dataframe tbody tr th {\n",
       "        vertical-align: top;\n",
       "    }\n",
       "\n",
       "    .dataframe thead th {\n",
       "        text-align: right;\n",
       "    }\n",
       "</style>\n",
       "<table border=\"1\" class=\"dataframe\">\n",
       "  <thead>\n",
       "    <tr style=\"text-align: right;\">\n",
       "      <th></th>\n",
       "      <th>count</th>\n",
       "      <th>mean</th>\n",
       "      <th>std</th>\n",
       "      <th>min</th>\n",
       "      <th>25%</th>\n",
       "      <th>50%</th>\n",
       "      <th>75%</th>\n",
       "      <th>max</th>\n",
       "    </tr>\n",
       "    <tr>\n",
       "      <th>language</th>\n",
       "      <th></th>\n",
       "      <th></th>\n",
       "      <th></th>\n",
       "      <th></th>\n",
       "      <th></th>\n",
       "      <th></th>\n",
       "      <th></th>\n",
       "      <th></th>\n",
       "    </tr>\n",
       "  </thead>\n",
       "  <tbody>\n",
       "    <tr>\n",
       "      <th>C</th>\n",
       "      <td>1078.0</td>\n",
       "      <td>1037.247681</td>\n",
       "      <td>1292.446214</td>\n",
       "      <td>7.0</td>\n",
       "      <td>254.00</td>\n",
       "      <td>634.0</td>\n",
       "      <td>1303.25</td>\n",
       "      <td>13700.0</td>\n",
       "    </tr>\n",
       "    <tr>\n",
       "      <th>C++</th>\n",
       "      <td>880.0</td>\n",
       "      <td>1047.269318</td>\n",
       "      <td>1367.425722</td>\n",
       "      <td>7.0</td>\n",
       "      <td>244.00</td>\n",
       "      <td>550.0</td>\n",
       "      <td>1327.25</td>\n",
       "      <td>10579.0</td>\n",
       "    </tr>\n",
       "    <tr>\n",
       "      <th>Fortran</th>\n",
       "      <td>745.0</td>\n",
       "      <td>1281.324832</td>\n",
       "      <td>2488.910274</td>\n",
       "      <td>6.0</td>\n",
       "      <td>186.00</td>\n",
       "      <td>567.0</td>\n",
       "      <td>1407.00</td>\n",
       "      <td>30106.0</td>\n",
       "    </tr>\n",
       "    <tr>\n",
       "      <th>Go</th>\n",
       "      <td>998.0</td>\n",
       "      <td>992.986974</td>\n",
       "      <td>1114.339570</td>\n",
       "      <td>5.0</td>\n",
       "      <td>275.00</td>\n",
       "      <td>654.0</td>\n",
       "      <td>1299.50</td>\n",
       "      <td>9465.0</td>\n",
       "    </tr>\n",
       "    <tr>\n",
       "      <th>Haskell</th>\n",
       "      <td>1333.0</td>\n",
       "      <td>576.682671</td>\n",
       "      <td>808.615098</td>\n",
       "      <td>2.0</td>\n",
       "      <td>128.00</td>\n",
       "      <td>304.0</td>\n",
       "      <td>682.00</td>\n",
       "      <td>8358.0</td>\n",
       "    </tr>\n",
       "    <tr>\n",
       "      <th>Java</th>\n",
       "      <td>987.0</td>\n",
       "      <td>1082.325228</td>\n",
       "      <td>1410.973181</td>\n",
       "      <td>11.0</td>\n",
       "      <td>245.00</td>\n",
       "      <td>646.0</td>\n",
       "      <td>1369.50</td>\n",
       "      <td>15657.0</td>\n",
       "    </tr>\n",
       "    <tr>\n",
       "      <th>JavaScript</th>\n",
       "      <td>1104.0</td>\n",
       "      <td>689.791667</td>\n",
       "      <td>963.892793</td>\n",
       "      <td>2.0</td>\n",
       "      <td>119.75</td>\n",
       "      <td>331.5</td>\n",
       "      <td>878.00</td>\n",
       "      <td>13079.0</td>\n",
       "    </tr>\n",
       "    <tr>\n",
       "      <th>Julia</th>\n",
       "      <td>637.0</td>\n",
       "      <td>385.500785</td>\n",
       "      <td>453.453206</td>\n",
       "      <td>3.0</td>\n",
       "      <td>92.00</td>\n",
       "      <td>231.0</td>\n",
       "      <td>518.00</td>\n",
       "      <td>4932.0</td>\n",
       "    </tr>\n",
       "    <tr>\n",
       "      <th>Kotlin</th>\n",
       "      <td>643.0</td>\n",
       "      <td>917.934681</td>\n",
       "      <td>819.141984</td>\n",
       "      <td>30.0</td>\n",
       "      <td>351.50</td>\n",
       "      <td>721.0</td>\n",
       "      <td>1210.00</td>\n",
       "      <td>5535.0</td>\n",
       "    </tr>\n",
       "    <tr>\n",
       "      <th>MATLAB</th>\n",
       "      <td>544.0</td>\n",
       "      <td>420.909926</td>\n",
       "      <td>1083.448344</td>\n",
       "      <td>3.0</td>\n",
       "      <td>68.00</td>\n",
       "      <td>138.5</td>\n",
       "      <td>372.50</td>\n",
       "      <td>15922.0</td>\n",
       "    </tr>\n",
       "    <tr>\n",
       "      <th>Mathematica</th>\n",
       "      <td>926.0</td>\n",
       "      <td>235.980562</td>\n",
       "      <td>368.593469</td>\n",
       "      <td>2.0</td>\n",
       "      <td>51.00</td>\n",
       "      <td>121.0</td>\n",
       "      <td>271.75</td>\n",
       "      <td>5195.0</td>\n",
       "    </tr>\n",
       "    <tr>\n",
       "      <th>PHP</th>\n",
       "      <td>477.0</td>\n",
       "      <td>480.054507</td>\n",
       "      <td>747.395366</td>\n",
       "      <td>4.0</td>\n",
       "      <td>97.00</td>\n",
       "      <td>247.0</td>\n",
       "      <td>565.00</td>\n",
       "      <td>7551.0</td>\n",
       "    </tr>\n",
       "    <tr>\n",
       "      <th>Perl</th>\n",
       "      <td>1135.0</td>\n",
       "      <td>456.289868</td>\n",
       "      <td>659.144898</td>\n",
       "      <td>5.0</td>\n",
       "      <td>103.50</td>\n",
       "      <td>222.0</td>\n",
       "      <td>534.50</td>\n",
       "      <td>8245.0</td>\n",
       "    </tr>\n",
       "    <tr>\n",
       "      <th>Python</th>\n",
       "      <td>1452.0</td>\n",
       "      <td>636.965565</td>\n",
       "      <td>1120.032270</td>\n",
       "      <td>4.0</td>\n",
       "      <td>134.00</td>\n",
       "      <td>335.0</td>\n",
       "      <td>738.75</td>\n",
       "      <td>27789.0</td>\n",
       "    </tr>\n",
       "    <tr>\n",
       "      <th>R</th>\n",
       "      <td>603.0</td>\n",
       "      <td>332.938640</td>\n",
       "      <td>408.573677</td>\n",
       "      <td>6.0</td>\n",
       "      <td>64.50</td>\n",
       "      <td>184.0</td>\n",
       "      <td>438.00</td>\n",
       "      <td>3005.0</td>\n",
       "    </tr>\n",
       "    <tr>\n",
       "      <th>Ruby</th>\n",
       "      <td>1104.0</td>\n",
       "      <td>485.902174</td>\n",
       "      <td>609.599052</td>\n",
       "      <td>11.0</td>\n",
       "      <td>122.00</td>\n",
       "      <td>272.0</td>\n",
       "      <td>602.00</td>\n",
       "      <td>5178.0</td>\n",
       "    </tr>\n",
       "    <tr>\n",
       "      <th>Rust</th>\n",
       "      <td>417.0</td>\n",
       "      <td>799.968825</td>\n",
       "      <td>1132.189133</td>\n",
       "      <td>12.0</td>\n",
       "      <td>182.00</td>\n",
       "      <td>446.0</td>\n",
       "      <td>895.00</td>\n",
       "      <td>10203.0</td>\n",
       "    </tr>\n",
       "    <tr>\n",
       "      <th>Scala</th>\n",
       "      <td>802.0</td>\n",
       "      <td>638.340399</td>\n",
       "      <td>863.541879</td>\n",
       "      <td>12.0</td>\n",
       "      <td>159.00</td>\n",
       "      <td>356.0</td>\n",
       "      <td>784.00</td>\n",
       "      <td>9934.0</td>\n",
       "    </tr>\n",
       "    <tr>\n",
       "      <th>Swift</th>\n",
       "      <td>403.0</td>\n",
       "      <td>539.215881</td>\n",
       "      <td>845.600405</td>\n",
       "      <td>10.0</td>\n",
       "      <td>103.50</td>\n",
       "      <td>252.0</td>\n",
       "      <td>579.00</td>\n",
       "      <td>7067.0</td>\n",
       "    </tr>\n",
       "  </tbody>\n",
       "</table>\n",
       "</div>"
      ],
      "text/plain": [
       "              count         mean          std   min     25%    50%      75%  \\\n",
       "language                                                                      \n",
       "C            1078.0  1037.247681  1292.446214   7.0  254.00  634.0  1303.25   \n",
       "C++           880.0  1047.269318  1367.425722   7.0  244.00  550.0  1327.25   \n",
       "Fortran       745.0  1281.324832  2488.910274   6.0  186.00  567.0  1407.00   \n",
       "Go            998.0   992.986974  1114.339570   5.0  275.00  654.0  1299.50   \n",
       "Haskell      1333.0   576.682671   808.615098   2.0  128.00  304.0   682.00   \n",
       "Java          987.0  1082.325228  1410.973181  11.0  245.00  646.0  1369.50   \n",
       "JavaScript   1104.0   689.791667   963.892793   2.0  119.75  331.5   878.00   \n",
       "Julia         637.0   385.500785   453.453206   3.0   92.00  231.0   518.00   \n",
       "Kotlin        643.0   917.934681   819.141984  30.0  351.50  721.0  1210.00   \n",
       "MATLAB        544.0   420.909926  1083.448344   3.0   68.00  138.5   372.50   \n",
       "Mathematica   926.0   235.980562   368.593469   2.0   51.00  121.0   271.75   \n",
       "PHP           477.0   480.054507   747.395366   4.0   97.00  247.0   565.00   \n",
       "Perl         1135.0   456.289868   659.144898   5.0  103.50  222.0   534.50   \n",
       "Python       1452.0   636.965565  1120.032270   4.0  134.00  335.0   738.75   \n",
       "R             603.0   332.938640   408.573677   6.0   64.50  184.0   438.00   \n",
       "Ruby         1104.0   485.902174   609.599052  11.0  122.00  272.0   602.00   \n",
       "Rust          417.0   799.968825  1132.189133  12.0  182.00  446.0   895.00   \n",
       "Scala         802.0   638.340399   863.541879  12.0  159.00  356.0   784.00   \n",
       "Swift         403.0   539.215881   845.600405  10.0  103.50  252.0   579.00   \n",
       "\n",
       "                 max  \n",
       "language              \n",
       "C            13700.0  \n",
       "C++          10579.0  \n",
       "Fortran      30106.0  \n",
       "Go            9465.0  \n",
       "Haskell       8358.0  \n",
       "Java         15657.0  \n",
       "JavaScript   13079.0  \n",
       "Julia         4932.0  \n",
       "Kotlin        5535.0  \n",
       "MATLAB       15922.0  \n",
       "Mathematica   5195.0  \n",
       "PHP           7551.0  \n",
       "Perl          8245.0  \n",
       "Python       27789.0  \n",
       "R             3005.0  \n",
       "Ruby          5178.0  \n",
       "Rust         10203.0  \n",
       "Scala         9934.0  \n",
       "Swift         7067.0  "
      ]
     },
     "execution_count": 8,
     "metadata": {},
     "output_type": "execute_result"
    }
   ],
   "source": [
    "lang_df.groupby(['language'])['file_length'].describe()"
   ]
  },
  {
   "cell_type": "code",
   "execution_count": 9,
   "metadata": {},
   "outputs": [
    {
     "data": {
      "text/plain": [
       "count      19.000000\n",
       "mean      686.191062\n",
       "std       296.979845\n",
       "min       235.980562\n",
       "25%       468.172188\n",
       "50%       636.965565\n",
       "75%       955.460828\n",
       "max      1281.324832\n",
       "Name: file_length, dtype: float64"
      ]
     },
     "execution_count": 9,
     "metadata": {},
     "output_type": "execute_result"
    }
   ],
   "source": [
    "lang_df.groupby(['language'])['file_length'].mean().describe()"
   ]
  },
  {
   "cell_type": "markdown",
   "metadata": {},
   "source": [
    "The mean length of code for 7/19 ~ <b>37%</b> languages <i>(C, C++, Fortran, Mathematica, PHP, Perl, Rust)</i> are <b>more than 1 standard deviation from the mean</b>, which <b>might</b> indicate the <b>relationship between file length and programming language</b>"
   ]
  },
  {
   "cell_type": "code",
   "execution_count": 10,
   "metadata": {},
   "outputs": [],
   "source": [
    "def avg_line_length(document_body):\n",
    "    lines = document_body.split('\\n')\n",
    "    num_lines = 0\n",
    "    total_length = 0\n",
    "    for line in lines:\n",
    "        if not len(line) == 0:\n",
    "            num_lines += 1\n",
    "            total_length += len(line)\n",
    "    return float(total_length)/float(num_lines)"
   ]
  },
  {
   "cell_type": "code",
   "execution_count": 11,
   "metadata": {},
   "outputs": [],
   "source": [
    "lang_df['avg_line_length'] = lang_df['file_body'].apply(avg_line_length)\n",
    "lang_df['lines'] = lang_df['file_body'].apply(lambda x: len(x.split('\\n')))"
   ]
  },
  {
   "cell_type": "code",
   "execution_count": 12,
   "metadata": {},
   "outputs": [],
   "source": [
    "lang_df = lang_df.reset_index()\n",
    "lang_df.drop(['index', 'proj_id', 'file_id'], 1, inplace=True)"
   ]
  },
  {
   "cell_type": "code",
   "execution_count": 13,
   "metadata": {},
   "outputs": [],
   "source": [
    "import nltk, re, pprint, string\n",
    "from nltk.tokenize import RegexpTokenizer\n",
    "\n",
    "lang_nltk_df = lang_df['file_body'].apply(lambda x: nltk.Text(x))\n",
    "\n",
    "tokenizer = RegexpTokenizer(r'\\w+|[`~!@#$%^&*()|<>\\:;,.?\\]=/{}\\[]')\n",
    "\n",
    "tokens = lang_df['file_body'].apply(lambda x: re.sub(r\"\\B([`~!@#$%^&*()|<>\\:;,.?\\]=/{}\\[])\", r\" \\1\", x))\n",
    "tokens = lang_df['file_body'].apply(lambda x: tokenizer.tokenize(x))"
   ]
  },
  {
   "cell_type": "code",
   "execution_count": 14,
   "metadata": {},
   "outputs": [],
   "source": [
    "word_tokenizer = RegexpTokenizer(r'[a-zA-Z]{2,}')\n",
    "lang_df['word_count'] = lang_df['file_body'].apply(lambda x: len(word_tokenizer.tokenize(x)))"
   ]
  },
  {
   "cell_type": "markdown",
   "metadata": {},
   "source": [
    "Convert token lists into strings in order to use scikit learn feature extraction:"
   ]
  },
  {
   "cell_type": "code",
   "execution_count": 15,
   "metadata": {},
   "outputs": [],
   "source": [
    "lang_df['processed_file_body'] = pd.DataFrame({'tokens':tokens.values})['tokens'].apply(lambda x:' '.join(x))"
   ]
  },
  {
   "cell_type": "code",
   "execution_count": 16,
   "metadata": {},
   "outputs": [],
   "source": [
    "lang_df['words'] = lang_df['file_body'].apply(lambda x: word_tokenizer.tokenize(x))"
   ]
  },
  {
   "cell_type": "code",
   "execution_count": 17,
   "metadata": {},
   "outputs": [
    {
     "data": {
      "text/html": [
       "<div>\n",
       "<style scoped>\n",
       "    .dataframe tbody tr th:only-of-type {\n",
       "        vertical-align: middle;\n",
       "    }\n",
       "\n",
       "    .dataframe tbody tr th {\n",
       "        vertical-align: top;\n",
       "    }\n",
       "\n",
       "    .dataframe thead th {\n",
       "        text-align: right;\n",
       "    }\n",
       "</style>\n",
       "<table border=\"1\" class=\"dataframe\">\n",
       "  <thead>\n",
       "    <tr style=\"text-align: right;\">\n",
       "      <th></th>\n",
       "      <th>language</th>\n",
       "      <th>file_body</th>\n",
       "      <th>file_length</th>\n",
       "      <th>avg_line_length</th>\n",
       "      <th>lines</th>\n",
       "      <th>word_count</th>\n",
       "      <th>processed_file_body</th>\n",
       "      <th>words</th>\n",
       "    </tr>\n",
       "  </thead>\n",
       "  <tbody>\n",
       "    <tr>\n",
       "      <th>0</th>\n",
       "      <td>JavaScript</td>\n",
       "      <td>// Functions as values of a variable\\nvar cube...</td>\n",
       "      <td>411</td>\n",
       "      <td>32.833333</td>\n",
       "      <td>18</td>\n",
       "      <td>47</td>\n",
       "      <td>/ / Functions as values of a variable var cube...</td>\n",
       "      <td>[Functions, as, values, of, variable, var, cub...</td>\n",
       "    </tr>\n",
       "    <tr>\n",
       "      <th>1</th>\n",
       "      <td>JavaScript</td>\n",
       "      <td>// Functions as values of a variable\\nvar cube...</td>\n",
       "      <td>493</td>\n",
       "      <td>23.500000</td>\n",
       "      <td>24</td>\n",
       "      <td>55</td>\n",
       "      <td>/ / Functions as values of a variable var cube...</td>\n",
       "      <td>[Functions, as, values, of, variable, var, cub...</td>\n",
       "    </tr>\n",
       "    <tr>\n",
       "      <th>2</th>\n",
       "      <td>JavaScript</td>\n",
       "      <td>function median(ary) {\\n    if (ary.length == ...</td>\n",
       "      <td>400</td>\n",
       "      <td>27.500000</td>\n",
       "      <td>16</td>\n",
       "      <td>38</td>\n",
       "      <td>function median ( ary ) { if ( ary . length = ...</td>\n",
       "      <td>[function, median, ary, if, ary, length, retur...</td>\n",
       "    </tr>\n",
       "    <tr>\n",
       "      <th>3</th>\n",
       "      <td>JavaScript</td>\n",
       "      <td>[\\n  null,\\n  4,\\n  3.5,\\n  2.1\\n]\\n</td>\n",
       "      <td>30</td>\n",
       "      <td>4.000000</td>\n",
       "      <td>7</td>\n",
       "      <td>1</td>\n",
       "      <td>[ null , 4 , 3 . 5 , 2 . 1 ]</td>\n",
       "      <td>[null]</td>\n",
       "    </tr>\n",
       "    <tr>\n",
       "      <th>4</th>\n",
       "      <td>JavaScript</td>\n",
       "      <td>(() =&gt; {\\n    'use strict';\\n\\n    // median :...</td>\n",
       "      <td>1346</td>\n",
       "      <td>31.560976</td>\n",
       "      <td>53</td>\n",
       "      <td>84</td>\n",
       "      <td>( ( ) = &gt; { use strict ; / / median : : [ Num ...</td>\n",
       "      <td>[use, strict, median, Num, Num, function, medi...</td>\n",
       "    </tr>\n",
       "  </tbody>\n",
       "</table>\n",
       "</div>"
      ],
      "text/plain": [
       "     language                                          file_body  file_length  \\\n",
       "0  JavaScript  // Functions as values of a variable\\nvar cube...          411   \n",
       "1  JavaScript  // Functions as values of a variable\\nvar cube...          493   \n",
       "2  JavaScript  function median(ary) {\\n    if (ary.length == ...          400   \n",
       "3  JavaScript               [\\n  null,\\n  4,\\n  3.5,\\n  2.1\\n]\\n           30   \n",
       "4  JavaScript  (() => {\\n    'use strict';\\n\\n    // median :...         1346   \n",
       "\n",
       "   avg_line_length  lines  word_count  \\\n",
       "0        32.833333     18          47   \n",
       "1        23.500000     24          55   \n",
       "2        27.500000     16          38   \n",
       "3         4.000000      7           1   \n",
       "4        31.560976     53          84   \n",
       "\n",
       "                                 processed_file_body  \\\n",
       "0  / / Functions as values of a variable var cube...   \n",
       "1  / / Functions as values of a variable var cube...   \n",
       "2  function median ( ary ) { if ( ary . length = ...   \n",
       "3                       [ null , 4 , 3 . 5 , 2 . 1 ]   \n",
       "4  ( ( ) = > { use strict ; / / median : : [ Num ...   \n",
       "\n",
       "                                               words  \n",
       "0  [Functions, as, values, of, variable, var, cub...  \n",
       "1  [Functions, as, values, of, variable, var, cub...  \n",
       "2  [function, median, ary, if, ary, length, retur...  \n",
       "3                                             [null]  \n",
       "4  [use, strict, median, Num, Num, function, medi...  "
      ]
     },
     "execution_count": 17,
     "metadata": {},
     "output_type": "execute_result"
    }
   ],
   "source": [
    "lang_df.head()"
   ]
  },
  {
   "cell_type": "code",
   "execution_count": 18,
   "metadata": {},
   "outputs": [],
   "source": [
    "from sklearn.feature_extraction.text import CountVectorizer\n",
    "from sklearn.feature_extraction.text import TfidfTransformer\n",
    "from sklearn.model_selection import train_test_split\n",
    "\n",
    "words_train, words_test, counts_train, counts_test, doc_length_train, doc_length_test, line_length_train, line_length_test, lines_train, lines_test, word_count_train, word_count_test, y_train, y_test = train_test_split(lang_df['words'], lang_df['processed_file_body'], lang_df['file_length'], lang_df['avg_line_length'], lang_df['lines'], lang_df['word_count'], lang_df['language'], random_state = 0)\n",
    "\n",
    "count_vect = CountVectorizer(ngram_range=(1,2),token_pattern=r'\\w{1,}|[`!@#^&*)(<>:;\\]/{}\\[]', min_df = 0.005)\n",
    "\n",
    "X_train_counts = count_vect.fit_transform(counts_train)\n",
    "X_test_counts = count_vect.transform(counts_test)\n",
    "\n",
    "#tfidf_transformer = TfidfTransformer()\n",
    "#X_train_tfidf = tfidf_transformer.fit_transform(X_train_counts)\n",
    "#X_test_tfidf = tfidf_transformer.transform(X_test_counts)"
   ]
  },
  {
   "cell_type": "markdown",
   "metadata": {},
   "source": [
    "<p>Get one more feature, namely bag of most frequent words for each language:</p> <i>Must be done after splitting the data in order to avoid using data from the test stage</i>"
   ]
  },
  {
   "cell_type": "code",
   "execution_count": 19,
   "metadata": {},
   "outputs": [],
   "source": [
    "import nltk\n",
    "import operator\n",
    "\n",
    "words_train_df = pd.DataFrame({'words':words_train,'language': y_train})"
   ]
  },
  {
   "cell_type": "code",
   "execution_count": 20,
   "metadata": {},
   "outputs": [],
   "source": [
    "# For each language, get separate word frequency distributions, sor#print(len(count_vect.vocabulary_))\n",
    "#count_vect.vocabulary_t descending, and get n_top_words\n",
    "n_top_words = 50\n",
    "freqdists = words_train_df.groupby('language')['words'].sum() \\\n",
    "    .apply(lambda x: nltk.FreqDist(x)) \\\n",
    "    .apply(lambda x: sorted(x.items(), key=operator.itemgetter(1),reverse=True)) \\\n",
    "    .apply(lambda x: x[:n_top_words])\n",
    "\n",
    "# Merge all frequent words into 1 list\n",
    "frequent_words = freqdists.sum()\n",
    "\n",
    "# Only leave the words, not their frequencies\n",
    "for i in range(len(frequent_words)):\n",
    "    frequent_words[i] = frequent_words[i][0]"
   ]
  },
  {
   "cell_type": "markdown",
   "metadata": {},
   "source": [
    "Create frequent words BOW features for train data:"
   ]
  },
  {
   "cell_type": "code",
   "execution_count": 21,
   "metadata": {},
   "outputs": [],
   "source": [
    "from collections import Counter\n",
    "\n",
    "# The lambda leaves counts of words that are intersecting with keywords\n",
    "words_train_df['frequent_words'] = words_train_df['words'].apply(lambda x: (Counter(frequent_words) & Counter(x)))\n",
    "\n",
    "# We want our BOWs to always be of the same dimensions, this function extends the dictionary (counter)\n",
    "# of word counts with words in the list parameters.\n",
    "# Words from the list that aren't in the dictionary are added as key-value pair: {'new_word' : 0}\n",
    "def tempfunc(dct, lst):\n",
    "    for itm in lst:\n",
    "        if not dct.has_key(itm):\n",
    "            dct.update({itm:0})\n",
    "    return dct\n",
    "                                                                 \n",
    "words_train_df['frequent_words'] = words_train_df['frequent_words'].apply(lambda x: tempfunc(x, frequent_words))        \n",
    "\n",
    "# Now our BOWs exist as dictionaries (counters) in dataframe cells\n",
    "# this will extract the dict values as np.arrays\n",
    "# (all dicts have same key(word) order, so any i-th element represents the same word in all extracted np.arrays)\n",
    "# and stack them as one np.array, for each row in dataframe\n",
    "obs = np.array(dict(words_train_df['frequent_words'].iloc[0]).values())\n",
    "for index, row in words_train_df.iterrows():\n",
    "    obs = np.vstack((obs, np.array(dict(row['frequent_words']).values())))\n",
    "\n",
    "bow_freq_words_train = obs[1:]"
   ]
  },
  {
   "cell_type": "markdown",
   "metadata": {},
   "source": [
    "Make the same for test data:"
   ]
  },
  {
   "cell_type": "code",
   "execution_count": 22,
   "metadata": {},
   "outputs": [],
   "source": [
    "words_test_df = pd.DataFrame({'words':words_test})\n",
    "words_test_df['frequent_words'] = words_test_df['words'].apply(lambda x: (Counter(frequent_words) & Counter(x)))\n",
    "words_test_df['frequent_words'] = words_test_df['frequent_words'].apply(lambda x: tempfunc(x, frequent_words))        \n",
    "obs = np.array(dict(words_test_df['frequent_words'].iloc[0]).values())\n",
    "for index, row in words_test_df.iterrows():\n",
    "    obs = np.vstack((obs, np.array(dict(row['frequent_words']).values())))\n",
    "bow_freq_words_test = obs[1:]"
   ]
  },
  {
   "cell_type": "markdown",
   "metadata": {},
   "source": [
    "Feature selection and joining:"
   ]
  },
  {
   "cell_type": "code",
   "execution_count": 23,
   "metadata": {},
   "outputs": [],
   "source": [
    "import scipy as sp\n",
    "\n",
    "non_text_train_features = [[doc_length_train, lines_train, word_count_train]]\n",
    "non_text_train_features = np.hstack(non_text_train_features).T\n",
    "train_features = sp.sparse.hstack((X_train_counts, non_text_train_features, bow_freq_words_train), format='csr')\n",
    "\n",
    "non_text_test_features = [[doc_length_test, lines_test, word_count_test]]\n",
    "non_text_test_features = np.hstack(non_text_test_features).T\n",
    "test_features = sp.sparse.hstack((X_test_counts, non_text_test_features, bow_freq_words_test), format='csr')"
   ]
  },
  {
   "cell_type": "code",
   "execution_count": 24,
   "metadata": {},
   "outputs": [
    {
     "data": {
      "text/plain": [
       "(4067, 3186)"
      ]
     },
     "execution_count": 24,
     "metadata": {},
     "output_type": "execute_result"
    }
   ],
   "source": [
    "test_features.shape"
   ]
  },
  {
   "cell_type": "markdown",
   "metadata": {},
   "source": [
    "Model selection:"
   ]
  },
  {
   "cell_type": "code",
   "execution_count": 25,
   "metadata": {},
   "outputs": [
    {
     "name": "stdout",
     "output_type": "stream",
     "text": [
      "Accuracy: \n"
     ]
    },
    {
     "data": {
      "text/plain": [
       "0.888615687238751"
      ]
     },
     "execution_count": 25,
     "metadata": {},
     "output_type": "execute_result"
    }
   ],
   "source": [
    "from sklearn.metrics import accuracy_score #, precision_score, recall_score, f1_score\n",
    "from sklearn.naive_bayes import MultinomialNB\n",
    "clf = MultinomialNB().fit(train_features, y_train)\n",
    "y_pred = pd.DataFrame(clf.predict(test_features))\n",
    "print(\"Accuracy: \")\n",
    "accuracy_score(y_test, y_pred, normalize=True, sample_weight=None)"
   ]
  },
  {
   "cell_type": "code",
   "execution_count": 26,
   "metadata": {},
   "outputs": [
    {
     "name": "stderr",
     "output_type": "stream",
     "text": [
      "/home/grigori/anaconda3/envs/py36/lib/python2.7/site-packages/sklearn/ensemble/weight_boosting.py:29: DeprecationWarning: numpy.core.umath_tests is an internal NumPy module and should not be imported. It will be removed in a future NumPy release.\n",
      "  from numpy.core.umath_tests import inner1d\n"
     ]
    },
    {
     "name": "stdout",
     "output_type": "stream",
     "text": [
      "Accuracy: \n"
     ]
    },
    {
     "data": {
      "text/plain": [
       "0.895992131792476"
      ]
     },
     "execution_count": 26,
     "metadata": {},
     "output_type": "execute_result"
    }
   ],
   "source": [
    "from sklearn.ensemble import RandomForestClassifier\n",
    "rfc = RandomForestClassifier(n_estimators=10, criterion='gini', max_depth=None,).fit(train_features, y_train)\n",
    "y_pred = pd.DataFrame(rfc.predict(test_features))\n",
    "print(\"Accuracy: \")\n",
    "accuracy_score(y_test, y_pred, normalize=True, sample_weight=None) #0.8920580280304893: \\w{2,} + lines"
   ]
  },
  {
   "cell_type": "code",
   "execution_count": 27,
   "metadata": {},
   "outputs": [
    {
     "name": "stdout",
     "output_type": "stream",
     "text": [
      "Accuracy: \n"
     ]
    },
    {
     "data": {
      "text/plain": [
       "0.862798131300713"
      ]
     },
     "execution_count": 27,
     "metadata": {},
     "output_type": "execute_result"
    }
   ],
   "source": [
    "from sklearn.tree import DecisionTreeClassifier\n",
    "dtc = DecisionTreeClassifier(criterion='gini', splitter='best', max_depth=None).fit(train_features, y_train)\n",
    "y_pred = pd.DataFrame(dtc.predict(test_features))    \n",
    "print(\"Accuracy: \")\n",
    "accuracy_score(y_test, y_pred, normalize=True, sample_weight=None)"
   ]
  },
  {
   "cell_type": "code",
   "execution_count": 28,
   "metadata": {},
   "outputs": [
    {
     "name": "stdout",
     "output_type": "stream",
     "text": [
      "Accuracy: \n"
     ]
    },
    {
     "data": {
      "text/plain": [
       "0.8846815834767642"
      ]
     },
     "execution_count": 28,
     "metadata": {},
     "output_type": "execute_result"
    }
   ],
   "source": [
    "from sklearn.svm import LinearSVC\n",
    "lsvc = LinearSVC().fit(train_features, y_train)\n",
    "y_pred = pd.DataFrame(lsvc.predict(test_features))\n",
    "print(\"Accuracy: \")\n",
    "accuracy_score(y_test, y_pred, normalize=True, sample_weight=None)"
   ]
  },
  {
   "cell_type": "code",
   "execution_count": 30,
   "metadata": {},
   "outputs": [
    {
     "name": "stdout",
     "output_type": "stream",
     "text": [
      "Accuracy: \n"
     ]
    },
    {
     "data": {
      "text/plain": [
       "0.9100073764445538"
      ]
     },
     "execution_count": 30,
     "metadata": {},
     "output_type": "execute_result"
    }
   ],
   "source": [
    "from sklearn.linear_model import LogisticRegression \n",
    "lr = LogisticRegression(random_state=0).fit(train_features, y_train)\n",
    "y_pred = pd.DataFrame(lr.predict(test_features))\n",
    "print(\"Accuracy: \")\n",
    "accuracy_score(y_test, y_pred, normalize=True, sample_weight=None)"
   ]
  },
  {
   "cell_type": "markdown",
   "metadata": {},
   "source": [
    "<h4>With an accuracy score of 91%, logistic regression performed best.</h4>"
   ]
  }
 ],
 "metadata": {
  "kernelspec": {
   "display_name": "Python 3",
   "language": "python",
   "name": "python3"
  },
  "language_info": {
   "codemirror_mode": {
    "name": "ipython",
    "version": 2
   },
   "file_extension": ".py",
   "mimetype": "text/x-python",
   "name": "python",
   "nbconvert_exporter": "python",
   "pygments_lexer": "ipython2",
   "version": "2.7.15"
  }
 },
 "nbformat": 4,
 "nbformat_minor": 2
}
